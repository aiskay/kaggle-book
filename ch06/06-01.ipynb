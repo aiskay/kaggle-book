{
 "cells": [
  {
   "cell_type": "markdown",
   "source": [
    "# 6.1 パラメータチューニング\n",
    "\n",
    "## 6.1.1 ハイパーパラメータの探索手法\n",
    "\n",
    "1. 手動\n",
    "2. グリッドサーチ/ランダムサーチ\n",
    "\n",
    "    `sckikit-learn.model_selection` の `GridSearchCV`, `RandomizedSearchCV` など\n",
    "3. ベイズ最適化 (Bayseian Optimization)\n",
    "    `hyperopt`, `optuna`\n",
    "\n"
   ],
   "metadata": {}
  },
  {
   "cell_type": "markdown",
   "source": [],
   "metadata": {}
  }
 ],
 "metadata": {
  "orig_nbformat": 4,
  "language_info": {
   "name": "python",
   "version": "3.9.5"
  },
  "kernelspec": {
   "name": "python3",
   "display_name": "Python 3.9.5 64-bit"
  },
  "interpreter": {
   "hash": "4cd7ab41f5fca4b9b44701077e38c5ffd31fe66a6cab21e0214b68d958d0e462"
  }
 },
 "nbformat": 4,
 "nbformat_minor": 2
}